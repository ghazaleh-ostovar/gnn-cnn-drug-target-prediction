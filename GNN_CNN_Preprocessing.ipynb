{
 "cells": [
  {
   "cell_type": "code",
   "execution_count": 22,
   "id": "65443ca9",
   "metadata": {},
   "outputs": [],
   "source": [
    "# Core libraries\n",
    "import os\n",
    "import numpy as np\n",
    "import pandas as pd\n",
    "import matplotlib.pyplot as plt\n",
    "\n",
    "# PyTorch and PyTorch Geometric\n",
    "import torch\n",
    "from torch_geometric.data import Data\n",
    "from torch_geometric.utils import to_networkx\n",
    "\n",
    "# RDKit for chemical structures\n",
    "from rdkit import Chem\n",
    "from rdkit.Chem import rdchem\n",
    "\n",
    "# Molecule graph visualization\n",
    "import networkx as nx\n",
    "\n",
    "# Hugging Face tokenizer\n",
    "from transformers import AutoTokenizer\n"
   ]
  },
  {
   "cell_type": "markdown",
   "id": "f8b69569-779f-43df-92b6-4895861aab61",
   "metadata": {},
   "source": [
    "## 🔹 Load and check dataset\n",
    "### Basic info, label distribution, and missing values.\n"
   ]
  },
  {
   "cell_type": "code",
   "execution_count": 4,
   "id": "b618b330",
   "metadata": {},
   "outputs": [
    {
     "name": "stdout",
     "output_type": "stream",
     "text": [
      "(11229, 5)\n",
      "Index(['drugbank_id', 'SMILES', 'gene_name', 'Sequence', 'label'], dtype='object')\n",
      "[1 0]\n",
      "label\n",
      "0    7907\n",
      "1    3322\n",
      "Name: count, dtype: int64\n",
      "[1 1 1 ... 0 0 0]\n",
      "  drugbank_id                                             SMILES gene_name  \\\n",
      "0     DB00131  NC1=C2N=CN([C@@H]3O[C@H](COP(O)(O)=O)[C@@H](O)...    PRKAA1   \n",
      "1     DB00131  NC1=C2N=CN([C@@H]3O[C@H](COP(O)(O)=O)[C@@H](O)...    PRKAA2   \n",
      "2     DB00131  NC1=C2N=CN([C@@H]3O[C@H](COP(O)(O)=O)[C@@H](O)...    PRKAB1   \n",
      "3     DB00131  NC1=C2N=CN([C@@H]3O[C@H](COP(O)(O)=O)[C@@H](O)...    PRKAB2   \n",
      "4     DB00131  NC1=C2N=CN([C@@H]3O[C@H](COP(O)(O)=O)[C@@H](O)...    PRKAG1   \n",
      "\n",
      "                                            Sequence  label  \n",
      "0  MRRLSSWRKMATAEKQKHDGRVKIGHYILGDTLGVGTFGKVKVGKH...      1  \n",
      "1  MAEKQKHDGRVKIGHYVLGDTLGVGTFGKVKIGEHQLTGHKVAVKI...      1  \n",
      "2  MGNTSSERAALERHGGHKTPRRDSSGGTKDGDRPKILMDSPEDADL...      1  \n",
      "3  MGNTTSDRVSGERHGAKAARSEGAGGHAPGKEHKIMVGSTDDPSVF...      1  \n",
      "4  METVISSDSSPAVENEHPQETPESNNSVYTSFMKSHRCYDLIPTSS...      1  \n",
      "Missing values in dataset:\n",
      " drugbank_id    0\n",
      "SMILES         0\n",
      "gene_name      0\n",
      "Sequence       0\n",
      "label          0\n",
      "dtype: int64\n"
     ]
    }
   ],
   "source": [
    "data_path = \"./Activate_Inhibit_Raw.csv\"\n",
    "data = pd.read_csv(data_path)\n",
    "\n",
    "print(data.shape)\n",
    "print(data.columns)\n",
    "print(data[\"label\"].unique())\n",
    "print(data[\"label\"].value_counts())\n",
    "print(data[\"label\"].values)\n",
    "print(data.head())\n",
    "# Check for NaNs in each column\n",
    "print(\"Missing values in dataset:\\n\", data.isna().sum())\n",
    "\n"
   ]
  },
  {
   "cell_type": "code",
   "execution_count": 5,
   "id": "7040b5c9",
   "metadata": {
    "scrolled": true
   },
   "outputs": [
    {
     "name": "stdout",
     "output_type": "stream",
     "text": [
      "Unique SMILES: 2177\n",
      "Unique Protein: 1379\n",
      "Unique drugbank_id : 2183\n",
      "Unique Protein name: 1376\n",
      "drugbank_id\n",
      "1    2176\n",
      "7       1\n",
      "Name: count, dtype: int64\n"
     ]
    }
   ],
   "source": [
    "print( \"Unique SMILES:\", data[\"SMILES\"].nunique())\n",
    "print( \"Unique Protein:\", data[\"Sequence\"].nunique())\n",
    "print( \"Unique drugbank_id :\", data[\"drugbank_id\"].nunique())\n",
    "print( \"Unique Protein name:\", data[\"gene_name\"].nunique())\n",
    "print(data.groupby(\"SMILES\")[\"drugbank_id\"].nunique().value_counts())\n"
   ]
  },
  {
   "cell_type": "code",
   "execution_count": 6,
   "id": "836e8421",
   "metadata": {},
   "outputs": [
    {
     "name": "stdout",
     "output_type": "stream",
     "text": [
      "\n",
      "Protein Sequence Lengths:\n",
      "count    11229.000000\n",
      "mean       657.983525\n",
      "std        401.483617\n",
      "min         23.000000\n",
      "25%        463.000000\n",
      "50%        503.000000\n",
      "75%        660.000000\n",
      "max       2803.000000\n",
      "Name: Sequence_Length, dtype: float64\n",
      "1598\n",
      "\n",
      "Duplicate Drug-Protein Pairs: 176\n"
     ]
    }
   ],
   "source": [
    "# Check protein sequence lengths\n",
    "data['Sequence_Length'] = data['Sequence'].apply(len)\n",
    "print(\"\\nProtein Sequence Lengths:\")\n",
    "print(data['Sequence_Length'].describe())\n",
    "print((data['Sequence_Length']>1024).sum()) ### juicy proteins! too thicc to be tokenized so will get truncated \n",
    "# Check for duplicate drug-protein pairs\n",
    "print(\"\\nDuplicate Drug-Protein Pairs:\", data.duplicated(subset=['SMILES', 'Sequence']).sum())"
   ]
  },
  {
   "cell_type": "markdown",
   "id": "c5395cbd-62ad-411d-a8e0-d80d410decad",
   "metadata": {},
   "source": [
    "## 🔹 Handle duplicates  \n",
    "### Remove exact duplicates and remove conflicting labels for the same drug–protein pairs.\n"
   ]
  },
  {
   "cell_type": "code",
   "execution_count": 7,
   "id": "0cb34220-0a2e-4670-970b-36b58fab2bb7",
   "metadata": {},
   "outputs": [
    {
     "name": "stdout",
     "output_type": "stream",
     "text": [
      "After dropping exact duplicates: (11070, 6)\n",
      "Number of rows with duplicate SMILES-Sequence pairs: 34\n",
      "Duplicate pairs with same label: 0\n",
      "Duplicate pairs with conflicting labels: 17\n",
      "\n",
      "Example conflicting pairs:\n",
      "     drugbank_id                                             SMILES gene_name  \\\n",
      "1213     DB01205      CCOC(=O)C1=C2CN(C)C(=O)C3=C(C=CC(F)=C3)N2C=N1    GABRA1   \n",
      "1217     DB01205      CCOC(=O)C1=C2CN(C)C(=O)C3=C(C=CC(F)=C3)N2C=N1    GABRA5   \n",
      "1225     DB01205      CCOC(=O)C1=C2CN(C)C(=O)C3=C(C=CC(F)=C3)N2C=N1    GABRG2   \n",
      "2207     DB13746  CC1=C(C(=O)CC1OC(=O)[C@@H]2[C@H](C2(C)C)C=C(C)...   CACNA1C   \n",
      "2208     DB13746  CC1=C(C(=O)CC1OC(=O)[C@@H]2[C@H](C2(C)C)C=C(C)...   CACNA1D   \n",
      "\n",
      "                                               Sequence  label  \\\n",
      "1213  MRKSPGLSDCLWAWILLLSTLTGRSYGQPSLQDELKDNTTVFTRIL...      1   \n",
      "1217  MDNGMFSGFIMIKNLLLFCISMNLSSHFGFSQMPTSSVKDETNDNI...      1   \n",
      "1225  MSSPNIWSTGSSVYSTPVFSQKMTVWILLLLSLYPGFTSQKSDDDY...      1   \n",
      "2207  MVNENTRMYIPEENHQGSNYGSPRPAHANMNANAAAGLAPEHIPTP...      1   \n",
      "2208  MMMMMMMKKMQHQRQQQADHANEANYARGTRLPLSGEGPTSQPNSS...      1   \n",
      "\n",
      "      Sequence_Length  \n",
      "1213              456  \n",
      "1217              462  \n",
      "1225              467  \n",
      "2207             2221  \n",
      "2208             2161  \n"
     ]
    }
   ],
   "source": [
    "# Step 1: Drop exact duplicates (SMILES, Sequence, Label) – same as before\n",
    "data_no_exact_dups = data.drop_duplicates(subset=['SMILES', 'Sequence', 'label'])\n",
    "print(f\"After dropping exact duplicates: {data_no_exact_dups.shape}\")  # Should be <= 11229\n",
    "\n",
    "# Step 2: Find duplicate SMILES-Sequence pairs\n",
    "duplicate_pairs = data_no_exact_dups[data_no_exact_dups.duplicated(subset=['SMILES', 'Sequence'], keep=False)]\n",
    "print(f\"Number of rows with duplicate SMILES-Sequence pairs: {len(duplicate_pairs)}\")\n",
    "\n",
    "# Step 3: Group by SMILES-Sequence and check label consistency\n",
    "dup_group = duplicate_pairs.groupby(['SMILES', 'Sequence'])['label'].nunique()\n",
    "same_label_pairs = dup_group[dup_group == 1].index\n",
    "conflicting_label_pairs = dup_group[dup_group > 1].index\n",
    "\n",
    "# Step 4: Count and show results\n",
    "print(f\"Duplicate pairs with same label: {len(same_label_pairs)}\")\n",
    "print(f\"Duplicate pairs with conflicting labels: {len(conflicting_label_pairs)}\")\n",
    "\n",
    "# Step 5: Peek at conflicting pairs (optional)\n",
    "if len(conflicting_label_pairs) > 0:\n",
    "    print(\"\\nExample conflicting pairs:\")\n",
    "    conflicting_data = duplicate_pairs[duplicate_pairs.set_index(['SMILES', 'Sequence']).index.isin(conflicting_label_pairs)]\n",
    "    print(conflicting_data.head())\n",
    "\n"
   ]
  },
  {
   "cell_type": "code",
   "execution_count": 14,
   "id": "fd5df670",
   "metadata": {},
   "outputs": [
    {
     "name": "stdout",
     "output_type": "stream",
     "text": [
      "After dropping exact duplicates: (11070, 6)\n",
      "Duplicate pairs with conflicting labels: 17\n",
      "After removing conflicting pairs: (11036, 6)\n",
      "Remaining duplicate SMILES-Sequence pairs: 0\n",
      "Conflicting pairs left: 0\n"
     ]
    }
   ],
   "source": [
    "# Step 1: Drop exact duplicates\n",
    "data_no_exact_dups = data.drop_duplicates(subset=['SMILES', 'Sequence', 'label'])\n",
    "print(f\"After dropping exact duplicates: {data_no_exact_dups.shape}\")\n",
    "\n",
    "# Step 2: Identify conflicting pairs\n",
    "duplicate_pairs = data_no_exact_dups[data_no_exact_dups.duplicated(subset=['SMILES', 'Sequence'], keep=False)]\n",
    "dup_group = duplicate_pairs.groupby(['SMILES', 'Sequence'])['label'].nunique()\n",
    "conflicting_label_pairs = dup_group[dup_group > 1].index\n",
    "print(f\"Duplicate pairs with conflicting labels: {len(conflicting_label_pairs)}\")\n",
    "\n",
    "# Step 3: Remove all rows with conflicting pairs\n",
    "data_clean = data_no_exact_dups[~data_no_exact_dups.set_index(['SMILES', 'Sequence']).index.isin(conflicting_label_pairs)]\n",
    "print(f\"After removing conflicting pairs: {data_clean.shape}\")\n",
    "\n",
    "# Step 4: Verify\n",
    "print(f\"Remaining duplicate SMILES-Sequence pairs: {data_clean.duplicated(subset=['SMILES', 'Sequence']).sum()}\")\n",
    "conflict_counts = data_clean.groupby(['SMILES', 'Sequence'])['label'].nunique()\n",
    "print(f\"Conflicting pairs left: {(conflict_counts > 1).sum()}\")\n"
   ]
  },
  {
   "cell_type": "code",
   "execution_count": 15,
   "id": "691f1af6-8359-439a-a46d-ef0286200ef6",
   "metadata": {},
   "outputs": [],
   "source": [
    "data_clean.to_csv(\"Activate_Inhibit_Cleaned.csv\", index=False)"
   ]
  },
  {
   "cell_type": "markdown",
   "id": "05998be0-41ca-469a-8f38-4117a477a513",
   "metadata": {},
   "source": [
    "##  🔹 Train-test split  \n",
    "### Stratified 80/20 split to preserve label balance across sets\n"
   ]
  },
  {
   "cell_type": "code",
   "execution_count": 16,
   "id": "a93fe1a8-5231-4c95-af78-edbba84186cd",
   "metadata": {},
   "outputs": [
    {
     "name": "stdout",
     "output_type": "stream",
     "text": [
      "trains set label stats: label\n",
      "0    0.706842\n",
      "1    0.293158\n",
      "Name: proportion, dtype: float64\n",
      "test set label stats: label\n",
      "0    0.706975\n",
      "1    0.293025\n",
      "Name: proportion, dtype: float64\n"
     ]
    }
   ],
   "source": [
    "from sklearn.model_selection import train_test_split\n",
    "train_data, test_data = train_test_split(data_clean, test_size=0.2, stratify=data_clean[\"label\"], random_state=1)\n",
    "print(\"trains set label stats:\", train_data[\"label\"].value_counts(normalize=True))\n",
    "print(\"test set label stats:\", test_data[\"label\"].value_counts(normalize=True))"
   ]
  },
  {
   "cell_type": "code",
   "execution_count": 17,
   "id": "34c3aceb",
   "metadata": {},
   "outputs": [
    {
     "name": "stdout",
     "output_type": "stream",
     "text": [
      "Number of overlapping drug-protein pairs: 0\n",
      "All SMILES valid strings: True\n"
     ]
    }
   ],
   "source": [
    "overlap = set(train_data.apply(lambda x: (x['SMILES'], x['Sequence']), axis=1)) & set(test_data.apply(lambda x: (x['SMILES'], x['Sequence']), axis=1))\n",
    "print(f\"Number of overlapping drug-protein pairs: {len(overlap)}\")\n",
    "print(\"All SMILES valid strings:\", data_clean['SMILES'].apply(lambda x: isinstance(x, str) and len(x) > 0).all())"
   ]
  },
  {
   "cell_type": "markdown",
   "id": "311d79d9-b399-4e66-bae5-82f9f9d0b2aa",
   "metadata": {},
   "source": [
    "## 🔹 Convert drug SMILES to molecular graph  \n",
    "### Transforms a SMILES string into a molecular graph with node and edge features for use in a GNN:\n",
    "- ### **Node features**: atomic number, degree, aromaticity, hybridization  \n",
    "- ### **Edge features**: bond type (single, double, triple, aromatic)\n"
   ]
  },
  {
   "cell_type": "code",
   "execution_count": 18,
   "id": "1b265f4c",
   "metadata": {},
   "outputs": [
    {
     "name": "stdout",
     "output_type": "stream",
     "text": [
      "Data(x=[3, 4], edge_index=[2, 4], edge_attr=[4, 4])\n"
     ]
    }
   ],
   "source": [
    "\n",
    "\n",
    "def smiles_to_graph(smiles):\n",
    "    mol = Chem.MolFromSmiles(smiles)\n",
    "    if mol is None:\n",
    "        return None  # Return None for invalid SMILES\n",
    "    \n",
    "    # Node features (atoms)\n",
    "    node_features = []\n",
    "    for atom in mol.GetAtoms():\n",
    "        node_features.append([\n",
    "            atom.GetAtomicNum(),  # Atomic number\n",
    "            atom.GetDegree(),  # Number of bonds\n",
    "            int(atom.GetIsAromatic()),  # Aromaticity\n",
    "            atom.GetHybridization().real  # Hybridization state\n",
    "        ])\n",
    "    \n",
    "    # Edges (bonds)\n",
    "    edge_index = []\n",
    "    edge_features = []\n",
    "    for bond in mol.GetBonds():\n",
    "        start, end = bond.GetBeginAtomIdx(), bond.GetEndAtomIdx()\n",
    "        edge_index.append([start, end])\n",
    "        edge_index.append([end, start])  # Reverse direction\n",
    "        \n",
    "        # Bond features (Type: Single, Double, Triple, Aromatic)\n",
    "        bond_type = bond.GetBondType()\n",
    "        bond_feature = [\n",
    "            int(bond_type == Chem.rdchem.BondType.SINGLE),\n",
    "            int(bond_type == Chem.rdchem.BondType.DOUBLE),\n",
    "            int(bond_type == Chem.rdchem.BondType.TRIPLE),\n",
    "            int(bond_type == Chem.rdchem.BondType.AROMATIC)\n",
    "        ]\n",
    "        \n",
    "        edge_features.append(bond_feature)\n",
    "        edge_features.append(bond_feature)  # Reverse edge\n",
    "    \n",
    "    # Convert to PyTorch tensors\n",
    "    x = torch.tensor(node_features, dtype=torch.float)\n",
    "    edge_index = torch.tensor(edge_index, dtype=torch.long).t().contiguous()\n",
    "    edge_attr = torch.tensor(edge_features, dtype=torch.float)\n",
    "\n",
    "    return Data(x=x, edge_index=edge_index, edge_attr=edge_attr)\n",
    "\n",
    "# Example usage\n",
    "smiles = \"CCO\"  # Ethanol\n",
    "graph = smiles_to_graph(smiles)\n",
    "\n",
    "print(graph)\n"
   ]
  },
  {
   "cell_type": "markdown",
   "id": "cdb6be52-a5d3-436f-a167-fb38fe0237d9",
   "metadata": {},
   "source": [
    "\n",
    "### Convert SMILES to PyTorch Geometric graphs and store them as `.pt` files\n"
   ]
  },
  {
   "cell_type": "code",
   "execution_count": 19,
   "id": "35672c38-eae0-4490-853d-eb51696dba50",
   "metadata": {},
   "outputs": [],
   "source": [
    "# Create the folder\n",
    "os.makedirs(\"Train_Test_Data\", exist_ok=True)\n",
    "\n",
    "# Generate and save graphs\n",
    "train_graphs = [smiles_to_graph(x) for x in train_data[\"SMILES\"] if x]\n",
    "test_graphs = [smiles_to_graph(x) for x in test_data[\"SMILES\"] if x]\n",
    "torch.save(train_graphs, \"Train_Test_Data/train_graphs.pt\")\n",
    "torch.save(test_graphs, \"Train_Test_Data/test_graphs.pt\")\n"
   ]
  },
  {
   "cell_type": "markdown",
   "id": "b209064a-38de-435f-b8b5-8dd291b82cd7",
   "metadata": {},
   "source": [
    "## 🔹 Tokenized protein sequences using ESM2\n",
    "### Tokenize protein sequences using ESM2 and save the encoded tensors as `.pt` files"
   ]
  },
  {
   "cell_type": "code",
   "execution_count": 20,
   "id": "7509e645-d429-4464-9905-17e6418d363d",
   "metadata": {},
   "outputs": [],
   "source": [
    "\n",
    "tokenizer = AutoTokenizer.from_pretrained(\"facebook/esm2_t6_8M_UR50D\")\n",
    "\n",
    "train_tokens = [tokenizer(seq, truncation=True, padding=True, max_length=1024, return_tensors=\"pt\") for seq in train_data[\"Sequence\"]]\n",
    "test_tokens = [tokenizer(seq, truncation=True, padding=True, max_length=1024, return_tensors=\"pt\") for seq in test_data[\"Sequence\"]]\n",
    "torch.save(train_tokens, \"Train_Test_Data/train_tokens.pt\")\n",
    "torch.save(test_tokens, \"Train_Test_Data/test_tokens.pt\")\n"
   ]
  },
  {
   "cell_type": "markdown",
   "id": "5c9d8bd0-1e86-4584-b0b6-a66ebe1d2938",
   "metadata": {},
   "source": [
    "## 🔹 Save train/test labels\n"
   ]
  },
  {
   "cell_type": "code",
   "execution_count": 21,
   "id": "cb9e8132",
   "metadata": {},
   "outputs": [
    {
     "name": "stdout",
     "output_type": "stream",
     "text": [
      "Train graphs: 8828, Test graphs: 2208\n",
      "Train tokens: 8828, Test tokens: 2208\n",
      "Index(['drugbank_id', 'SMILES', 'gene_name', 'Sequence', 'label',\n",
      "       'Sequence_Length'],\n",
      "      dtype='object')\n",
      "['train_graphs.pt', 'test.csv', 'test_tokens.pt', 'train_tokens.pt', 'train.csv', 'test_graphs.pt']\n"
     ]
    }
   ],
   "source": [
    "\n",
    "# Save tabular data (no Graph or Tokens columns)\n",
    "train_data[[\"SMILES\", \"Sequence\", \"label\"]].to_csv(\"Train_Test_Data/train.csv\", index=False)\n",
    "test_data[[\"SMILES\", \"Sequence\", \"label\"]].to_csv(\"Train_Test_Data/test.csv\", index=False)\n",
    "\n",
    "# Verify\n",
    "print(f\"Train graphs: {len(train_graphs)}, Test graphs: {len(test_graphs)}\")\n",
    "print(f\"Train tokens: {len(train_tokens)}, Test tokens: {len(test_tokens)}\")\n",
    "print(train_data.columns)\n",
    "print(os.listdir(\"Train_Test_Data\"))"
   ]
  },
  {
   "cell_type": "markdown",
   "id": "783c3b90-9f45-4972-890a-100669fcedce",
   "metadata": {},
   "source": [
    "### 🔹 Visualizing Molecular Graph  "
   ]
  },
  {
   "cell_type": "code",
   "execution_count": 15,
   "id": "2cad6b03-8c7c-4559-9eff-fa3bc2f3b1d3",
   "metadata": {},
   "outputs": [
    {
     "name": "stdout",
     "output_type": "stream",
     "text": [
      "New train_data index: RangeIndex(start=0, stop=8828, step=1)\n",
      "SMILES for drug #4: CN1C2=C(C=C(Cl)C=C2)C2(OC(C)=CC(=O)N2CC1=O)C1=CC=CC=C1\n",
      "Converted NetworkX Graph:\n",
      "Nodes: [0, 1, 2, 3, 4, 5, 6, 7, 8, 9, 10, 11, 12, 13, 14, 15, 16, 17, 18, 19, 20, 21, 22, 23, 24, 25]\n",
      "Edges: [(0, 1), (1, 2), (1, 18), (2, 3), (2, 8), (3, 4), (3, 9), (4, 5), (5, 6), (5, 7), (7, 8), (9, 10), (9, 20), (9, 16), (10, 11), (11, 12), (11, 13), (13, 14), (14, 15), (14, 16), (16, 17), (17, 18), (18, 19), (20, 21), (20, 25), (21, 22), (22, 23), (23, 24), (24, 25)]\n"
     ]
    },
    {
     "data": {
      "image/png": "[encoded data removed]",
      "text/plain": [
       "<Figure size 500x500 with 1 Axes>"
      ]
     },
     "metadata": {},
     "output_type": "display_data"
    }
   ],
   "source": [
    "\n",
    "train_data = train_data.reset_index(drop=True)\n",
    "test_data = test_data.reset_index(drop=True)\n",
    "\n",
    "# Verify the new index\n",
    "print(\"New train_data index:\", train_data.index)\n",
    "\n",
    "# Now get the SMILES for drug #4\n",
    "smiles = train_data[\"SMILES\"][3]\n",
    "print(f\"SMILES for drug #4: {smiles}\")\n",
    "\n",
    "# Your visualization (unchanged)\n",
    "graph_data = train_graphs[3]\n",
    "if graph_data is None:\n",
    "    print(\"Graph data is None. Cannot visualize.\")\n",
    "else:\n",
    "    G = to_networkx(graph_data, to_undirected=True)\n",
    "    print(\"Converted NetworkX Graph:\")\n",
    "    print(f\"Nodes: {G.nodes()}\")\n",
    "    print(f\"Edges: {G.edges()}\")\n",
    "    pos = nx.spring_layout(G)\n",
    "    plt.figure(figsize=(5, 5))\n",
    "    nx.draw_networkx(G, pos, with_labels=True, node_size=300, node_color=\"lightblue\", edge_color=\"gray\")\n",
    "    plt.title(\"Molecular Graph Visualization of the drug #4\")\n",
    "    plt.show()"
   ]
  }
 ],
 "metadata": {
  "kernelspec": {
   "display_name": "Python 3 (ipykernel)",
   "language": "python",
   "name": "python3"
  },
  "language_info": {
   "codemirror_mode": {
    "name": "ipython",
    "version": 3
   },
   "file_extension": ".py",
   "mimetype": "text/x-python",
   "name": "python",
   "nbconvert_exporter": "python",
   "pygments_lexer": "ipython3",
   "version": "3.9.13"
  }
 },
 "nbformat": 4,
 "nbformat_minor": 5
}
